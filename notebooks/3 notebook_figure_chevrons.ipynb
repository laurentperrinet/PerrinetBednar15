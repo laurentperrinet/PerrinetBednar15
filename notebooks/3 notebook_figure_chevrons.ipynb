{
 "cells": [
  {
   "cell_type": "markdown",
   "metadata": {},
   "source": [
    "# Plot the chevrons"
   ]
  },
  {
   "cell_type": "code",
   "execution_count": 1,
   "metadata": {
    "ExecuteTime": {
     "end_time": "2018-07-12T10:27:58.666479Z",
     "start_time": "2018-07-12T10:27:58.620564Z"
    },
    "scrolled": true
   },
   "outputs": [],
   "source": [
    "%load_ext autoreload\n",
    "%autoreload 2\n",
    "\n",
    "from __future__ import division, print_function\n",
    "%cd -q ../test/"
   ]
  },
  {
   "cell_type": "code",
   "execution_count": 2,
   "metadata": {
    "ExecuteTime": {
     "end_time": "2018-07-12T10:27:58.744700Z",
     "start_time": "2018-07-12T10:27:58.674006Z"
    }
   },
   "outputs": [
    {
     "name": "stdout",
     "output_type": "stream",
     "text": [
      "Overwriting experiment_hists.py\n"
     ]
    }
   ],
   "source": [
    "%%writefile experiment_hists.py\n",
    "#! /usr/bin/env python\n",
    "# -*- coding: utf8 -*-\n",
    "from __future__ import division, print_function\n",
    "\"\"\"\n",
    "\n",
    "Computes the histograms\n",
    "\n",
    "\"\"\"\n",
    "__author__ = \"(c) Laurent Perrinet INT - CNRS\"\n",
    "\n",
    "import os\n",
    "import numpy as np\n",
    "import pickle\n",
    "exp = 'srep'\n",
    "\n",
    "## TODO precision (accross images) as alpha value?\n",
    "from SparseEdges import EdgeFactory\n",
    "parameter_file = '../notebooks/srep_param.py'\n",
    "ef = EdgeFactory(parameter_file)\n",
    "\n",
    "#######################################################################\n",
    "def full_hist(edgeslist, **kwargs):\n",
    "        v_hist = np.zeros((ef.pe.N_r, ef.pe.N_phi, ef.pe.N_Dtheta, ef.pe.N_scale, edgeslist.shape[2])) # bins=(self.edges_d, self.edges_phi, self.edges_theta, self.edges_loglevel)\n",
    "        for i_image in range(edgeslist.shape[2]):\n",
    "            v_hist[..., i_image] = ef.cohistedges(edgeslist[:, :, i_image][..., np.newaxis], display='none', **kwargs)\n",
    "            v_hist[..., i_image] /= v_hist[..., i_image].sum()\n",
    "        return v_hist\n",
    "mat_edges_folder = 'cache_dir/edges/'\n",
    "matname = 'cache_dir/' + exp + '_ms1a.npy'\n",
    "try:\n",
    "    v_hist1a = np.load(matname)\n",
    "except Exception as e:\n",
    "    edgeslist = np.load(os.path.join(mat_edges_folder, exp + '_serre07_distractors_edges.npy'))\n",
    "    if not(os.path.isfile(matname + '_lock')):\n",
    "        print('There is no histogram, creating one: ', e)\n",
    "        open(matname + '_lock', 'w').close() # touching\n",
    "        v_hist1a = full_hist(edgeslist, symmetry=False)\n",
    "        np.save(matname, v_hist1a)\n",
    "        os.remove(matname + '_lock')\n",
    "    else:\n",
    "        print(' Some process is building the histogram ' + matname)\n",
    "        \n",
    "matname = 'cache_dir/' + exp + '_ms1.npy'\n",
    "try:\n",
    "    v_hist1 = np.load(matname)\n",
    "except Exception as e:\n",
    "    edgeslist = np.load(os.path.join(mat_edges_folder, exp + '_serre07_distractors_edges.npy'))\n",
    "    if not(os.path.isfile(matname + '_lock')):\n",
    "        print('There is no histogram, creating one: ', e)\n",
    "        open(matname + '_lock', 'w').close() # touching\n",
    "        v_hist1 = full_hist(edgeslist)\n",
    "        np.save(matname, v_hist1)\n",
    "        os.remove(matname + '_lock')\n",
    "    else:\n",
    "        print(' Some process is building the histogram ' + matname)\n",
    "\n",
    "matname = 'cache_dir/' + exp + '_ms1_shuffle.npy'\n",
    "try:\n",
    "    v_hist1_shuffle = np.load(matname)\n",
    "except Exception as e:\n",
    "    edgeslist = np.load(os.path.join(mat_edges_folder, exp + '_serre07_distractors_edges.npy'))\n",
    "    for index in range(5):\n",
    "        edgeslist[index, :, :] = np.random.permutation(edgeslist[index, :, :].ravel()).reshape(edgeslist[index, :, :].shape)\n",
    "    if not(os.path.isfile(matname + '_lock')):\n",
    "        print('There is no histogram, creating one: ', e)\n",
    "        open(matname + '_lock', 'w').close() # touching\n",
    "        v_hist1_shuffle = full_hist(edgeslist)\n",
    "        np.save(matname, v_hist1_shuffle)\n",
    "        os.remove(matname + '_lock')\n",
    "    else:\n",
    "        print(' Some process is building the histogram ' + matname)\n",
    "\n",
    "matname = 'cache_dir/' + exp + '_ms2a.npy'\n",
    "try:\n",
    "    v_hist2a = np.load(matname)\n",
    "except Exception as e:\n",
    "#     edgeslist = np.load(os.path.join('mat/', exp + '_serre07_targets_head_edges.npy'))\n",
    "    edgeslist = np.load(os.path.join(mat_edges_folder, exp + '_serre07_targets_edges.npy'))\n",
    "    if not(os.path.isfile(matname + '_lock')):\n",
    "        print('There is no histogram, creating one: ', e)\n",
    "        open(matname + '_lock', 'w').close() # touching\n",
    "        v_hist2a = full_hist(edgeslist, symmetry=False)\n",
    "        np.save(matname, v_hist2a)\n",
    "        os.remove(matname + '_lock')\n",
    "    else:\n",
    "        print(' Some process is building the histogram ' + matname)\n",
    "\n",
    "matname = 'cache_dir/' + exp + '_ms2.npy'\n",
    "try:\n",
    "    v_hist2 = np.load(matname)\n",
    "except Exception as e:\n",
    "#     edgeslist = np.load(os.path.join('mat/', exp + '_serre07_targets_head_edges.npy'))\n",
    "    edgeslist = np.load(os.path.join(mat_edges_folder, exp + '_serre07_targets_edges.npy'))\n",
    "    if not(os.path.isfile(matname + '_lock')):\n",
    "        print('There is no histogram, creating one: ', e)\n",
    "        open(matname + '_lock', 'w').close() # touching\n",
    "        v_hist2 = full_hist(edgeslist)\n",
    "        np.save(matname, v_hist2)\n",
    "        os.remove(matname + '_lock')\n",
    "    else:\n",
    "        print(' Some process is building the histogram ' + matname)\n",
    "\n",
    "matname = 'cache_dir/' + exp + '_ms3a.npy'\n",
    "try:\n",
    "    v_hist3a = np.load(matname)\n",
    "except Exception as e:\n",
    "    edgeslist = np.load(os.path.join(mat_edges_folder, exp + '_laboratory_edges.npy'))\n",
    "    if not(os.path.isfile(matname + '_lock')):\n",
    "        print('There is no histogram, creating one: ', e)\n",
    "        open(matname + '_lock', 'w').close() # touching\n",
    "        v_hist3a = full_hist(edgeslist, symmetry=False)\n",
    "        np.save(matname, v_hist3a)\n",
    "        os.remove(matname + '_lock')\n",
    "    else:\n",
    "        print(' Some process is building the histogram ' + matname)\n",
    "\n",
    "matname = 'cache_dir/' + exp + '_ms3.npy'\n",
    "try:\n",
    "    v_hist3 = np.load(matname)\n",
    "except Exception as e:\n",
    "    edgeslist = np.load(os.path.join(mat_edges_folder, exp + '_laboratory_edges.npy'))\n",
    "    if not(os.path.isfile(matname + '_lock')):\n",
    "        print('There is no histogram, creating one: ', e)\n",
    "        open(matname + '_lock', 'w').close() # touching\n",
    "        v_hist3 = full_hist(edgeslist)\n",
    "        np.save(matname, v_hist3)\n",
    "        os.remove(matname + '_lock')\n",
    "    else:\n",
    "        print(' Some process is building the histogram ' + matname)\n",
    "        "
   ]
  },
  {
   "cell_type": "code",
   "execution_count": 3,
   "metadata": {
    "ExecuteTime": {
     "end_time": "2018-07-12T10:27:58.942740Z",
     "start_time": "2018-07-12T10:27:58.755223Z"
    }
   },
   "outputs": [
    {
     "name": "stdout",
     "output_type": "stream",
     "text": [
      "\u001b[1m\u001b[36medges\u001b[m\u001b[m/                                  srep_ms2a.npy\r\n",
      "example_elephant.jpg.npy_lock           srep_ms3.npy\r\n",
      "srep_ms1.npy                            srep_ms3a.npy\r\n",
      "srep_ms1_shuffle.npy                    srep_serre07_distractors_images.pickle\r\n",
      "srep_ms1a.npy                           srep_serre07_targets_images.pickle\r\n",
      "srep_ms2.npy\r\n"
     ]
    }
   ],
   "source": [
    "%ls cache_dir"
   ]
  },
  {
   "cell_type": "code",
   "execution_count": 4,
   "metadata": {
    "ExecuteTime": {
     "end_time": "2018-07-12T10:28:01.507774Z",
     "start_time": "2018-07-12T10:27:58.951920Z"
    },
    "scrolled": false
   },
   "outputs": [],
   "source": [
    "%run experiment_hists.py"
   ]
  },
  {
   "cell_type": "code",
   "execution_count": 5,
   "metadata": {
    "ExecuteTime": {
     "end_time": "2018-07-12T10:28:01.556663Z",
     "start_time": "2018-07-12T10:28:01.514680Z"
    }
   },
   "outputs": [],
   "source": [
    "import numpy as np\n",
    "np.set_printoptions(precision=4)#, suppress=True)"
   ]
  },
  {
   "cell_type": "code",
   "execution_count": 6,
   "metadata": {
    "ExecuteTime": {
     "end_time": "2018-07-12T10:28:01.604601Z",
     "start_time": "2018-07-12T10:28:01.564202Z"
    }
   },
   "outputs": [
    {
     "name": "stdout",
     "output_type": "stream",
     "text": [
      "{'verbose': 0, 'N_image': None, 'seed': 42, 'N_X': 256, 'N_Y': 256, 'noise': 0.33, 'do_mask': True, 'mask_exponent': 3.0, 'do_whitening': True, 'white_name_database': 'kodakdb', 'white_n_learning': 0, 'white_N': 0.07, 'white_N_0': 0.0, 'white_f_0': 0.4, 'white_alpha': 1.4, 'white_steepness': 4.0, 'white_recompute': False, 'base_levels': 1.618, 'n_theta': 24, 'B_sf': 0.4, 'B_theta': 0.17453277777777776, 'N': 2048, 'MP_alpha': 0.7, 'd_width': 45.0, 'd_min': 0.5, 'd_max': 2.0, 'N_r': 6, 'N_Dtheta': 24, 'N_phi': 12, 'N_scale': 5, 'loglevel_max': 7, 'edge_mask': False, 'do_rank': False, 'scale_invariant': True, 'multiscale': True, 'kappa_phase': 0.0, 'weight_by_distance': True, 'svm_n_jobs': 1, 'svm_test_size': 0.2, 'N_svm_grid': 32, 'N_svm_cv': 50, 'C_range_begin': -5, 'C_range_end': 10.0, 'gamma_range_begin': -14, 'gamma_range_end': 3, 'svm_KL_m': 0.34, 'svm_tol': 0.001, 'svm_max_iter': -1, 'svm_log': False, 'svm_norm': False, 'figpath': '../figures', 'do_edgedir': False, 'edgefigpath': 'results/edges', 'matpath': 'cache_dir', 'edgematpath': 'cache_dir/edges', 'datapath': '../database', 'figsize': 14.0, 'figsize_hist': 8, 'figsize_cohist': 8, 'formats': ['png', 'pdf', 'jpg'], 'dpi': 450, 'use_cache': True, 'scale': 0.8, 'scale_circle': 0.08, 'scale_chevrons': 2.5, 'line_width': 1.0, 'line_width_chevrons': 0.75, 'edge_scale_chevrons': 180.0}\n"
     ]
    }
   ],
   "source": [
    "#from SparseEdges import EdgeFactory\n",
    "#ef = EdgeFactory('default_param.py')\n",
    "ef.pe.figpath = '../figures'\n",
    "print(ef.pe)"
   ]
  },
  {
   "cell_type": "markdown",
   "metadata": {},
   "source": [
    "### Plot the chevrons"
   ]
  },
  {
   "cell_type": "code",
   "execution_count": 7,
   "metadata": {
    "ExecuteTime": {
     "end_time": "2018-07-12T10:28:01.693908Z",
     "start_time": "2018-07-12T10:28:01.611928Z"
    }
   },
   "outputs": [],
   "source": [
    "import matplotlib.pyplot as plt\n",
    "%matplotlib inline"
   ]
  },
  {
   "cell_type": "code",
   "execution_count": 8,
   "metadata": {
    "ExecuteTime": {
     "end_time": "2018-07-12T10:28:01.746454Z",
     "start_time": "2018-07-12T10:28:01.701247Z"
    }
   },
   "outputs": [],
   "source": [
    "inches_per_pt = 1.0/72.27               # Convert pt to inches\n",
    "fig_width_pt = 265. # Get this from LaTeX using \\showthe\\columnwidth\n",
    "fig_width = fig_width_pt*inches_per_pt  # width in inches\n"
   ]
  },
  {
   "cell_type": "code",
   "execution_count": 9,
   "metadata": {
    "ExecuteTime": {
     "end_time": "2018-07-12T10:28:01.799671Z",
     "start_time": "2018-07-12T10:28:01.754577Z"
    }
   },
   "outputs": [],
   "source": [
    "figsize1 = (fig_width, 2*fig_width)\n",
    "figsize2 = (fig_width, fig_width*.9)"
   ]
  },
  {
   "cell_type": "code",
   "execution_count": 10,
   "metadata": {
    "ExecuteTime": {
     "end_time": "2018-07-12T10:28:01.879663Z",
     "start_time": "2018-07-12T10:28:01.807512Z"
    }
   },
   "outputs": [
    {
     "name": "stdout",
     "output_type": "stream",
     "text": [
      " Figure 2 : maximum of chevron map is  2.6849756915681278  minimum is  0.8752104746778853\n"
     ]
    }
   ],
   "source": [
    "v_hist1_chevron = v_hist1.sum(axis=-1).sum(axis=3).sum(axis=0)\n",
    "print (' Figure 2 : maximum of chevron map is ', v_hist1_chevron.max()/v_hist1_chevron.mean(), ' minimum is ', v_hist1_chevron.min()/v_hist1_chevron.mean())"
   ]
  },
  {
   "cell_type": "code",
   "execution_count": 11,
   "metadata": {
    "ExecuteTime": {
     "end_time": "2018-07-12T10:28:03.953559Z",
     "start_time": "2018-07-12T10:28:01.886653Z"
    }
   },
   "outputs": [
    {
     "name": "stdout",
     "output_type": "stream",
     "text": [
      "> figure 2 : chevron map \n"
     ]
    },
    {
     "data": {
      "image/png": "[encoded data removed]",
      "text/plain": [
       "<Figure size 264.01x237.609 with 2 Axes>"
      ]
     },
     "metadata": {},
     "output_type": "display_data"
    }
   ],
   "source": [
    "v_max, v_min = 2., -1.\n",
    "v_max, v_min = None, None\n",
    "print('> figure 2 : chevron map ')\n",
    "fig = plt.figure(figsize=figsize2)\n",
    "ratio = figsize2[1]/figsize2[0]\n",
    "border = 0.15\n",
    "#              *left*, *bottom*, *width*, *height*\n",
    "ax = fig.add_axes((.13, border*ratio/2, 1.-border, 1.-border*ratio), facecolor='w')\n",
    "ax.axis(c='b', lw=0)\n",
    "dolog = False\n",
    "dolog = True\n",
    "#              *left*, *bottom*, *width*, *height*\n",
    "fig, ax = ef.cohistedges(edgeslist=None, v_hist=v_hist1.sum(axis=-1), fig=fig, ax=ax, display='chevrons', \n",
    "                             dolog=dolog, labels=True, xticks=True, colorbar=True, v_min=v_min, v_max=v_max)\n",
    "_ = ax.set_title('Non-animal images', fontsize=10)"
   ]
  },
  {
   "cell_type": "code",
   "execution_count": null,
   "metadata": {
    "ExecuteTime": {
     "start_time": "2018-07-12T10:27:58.683Z"
    }
   },
   "outputs": [],
   "source": [
    "ef.savefig(fig, 'figure_chevrons')"
   ]
  },
  {
   "cell_type": "markdown",
   "metadata": {},
   "source": [
    "### Plot the conditional probabilities"
   ]
  },
  {
   "cell_type": "code",
   "execution_count": null,
   "metadata": {
    "ExecuteTime": {
     "start_time": "2018-07-12T10:27:58.695Z"
    }
   },
   "outputs": [],
   "source": [
    "figsize3 = (2*fig_width, 2*fig_width/1.618)\n",
    "\n",
    "print(' figure 3 : conditional probabilies ')\n",
    "dolog = False\n",
    "dolog = True\n",
    "half = True\n",
    "half = False\n",
    "labels = False\n",
    "labels = True\n",
    "fig = plt.figure(figsize=figsize3)\n",
    "ratio = figsize3[1]/figsize3[0]\n",
    "border = 0.03\n",
    "\n",
    "#              *left*, *bottom*, *width*, *height*\n",
    "ax = fig.add_axes((0.03, border*ratio, .5-border, 1.-border*ratio), facecolor='w')\n",
    "xticks=True\n",
    "v_hist_angle = v_hist2.sum(axis=(0, 3)).mean(axis=-1) / v_hist1.sum(axis=(0, 3)).mean(axis=-1) # -d-, phi, theta, -scale-\n",
    "print (' Figure 3 : maximum of animal vs non-animal map is ', v_hist_angle.max()/v_hist_angle.mean(), ' minimum is ', v_hist_angle.min()/v_hist_angle.mean())\n",
    "ax.axis(c='b', lw=0)\n",
    "#     v_max, v_min = 2., -1.\n",
    "v_max, v_min = None, None\n",
    "v_max, v_min = .19, -1.\n",
    "fig, ax = ef.cohistedges(edgeslist=None, v_hist=v_hist2.mean(axis=-1), prior=v_hist1.mean(axis=-1), v_min=v_min, v_max=v_max,\n",
    "                        fig=fig, ax=ax, display='chevrons', dolog=dolog, labels=labels, xticks=xticks, half=half, cbar_label=False)\n",
    "_ = ax.set_title('Animal vs non-animal', fontsize=10)\n",
    "\n",
    "#                 *left*,    *bottom*, *width*, *height*\n",
    "ax = fig.add_axes((.5+border, border*ratio, .5-border, 1.-border*ratio), facecolor='w')\n",
    "ax.axis(c='b', lw=0)\n",
    "\n",
    "v_hist3_angle = v_hist3.sum(axis=(0, 3)) # -d-,phi,  theta, -scale-\n",
    "v_hist2_angle = v_hist2.sum(axis=(0, 3)) # -d-,phi,  theta, -scale-\n",
    "v_hist1_angle = v_hist1.sum(axis=(0, 3)) # -d-,phi,  theta, -scale-\n",
    "\n",
    "v_hist_angle = v_hist3.sum(axis=(0, 3)).mean(axis=-1) / v_hist1.sum(axis=(0, 3)).mean(axis=-1) # -d-, phi, theta, -scale-\n",
    "print(' Figure 3 : maximum of man-made vs non-animal map is ', v_hist_angle.max()/v_hist_angle.mean(), \n",
    "      ' minimum is ', v_hist_angle.min()/v_hist_angle.mean(), \" mean \", v_hist_angle.mean())\n",
    "v_max, v_min = .5, -1.\n",
    "xticks = 'bottom'\n",
    "fig, ax = ef.cohistedges(edgeslist=None, v_hist=v_hist3.mean(axis=-1), prior=v_hist1.mean(axis=-1), v_min=v_min, v_max=v_max,\n",
    "                        fig=fig, ax=ax, display='chevrons', dolog=dolog, labels=labels, xticks=xticks, half=half, colorbar=True)\n",
    "\n",
    "ax.set_title('Man-made vs non-animal', fontsize=10)"
   ]
  },
  {
   "cell_type": "code",
   "execution_count": null,
   "metadata": {
    "ExecuteTime": {
     "start_time": "2018-07-12T10:27:58.715Z"
    }
   },
   "outputs": [],
   "source": [
    "ef.savefig(fig, 'figure_chevrons2')"
   ]
  },
  {
   "cell_type": "markdown",
   "metadata": {},
   "source": [
    "### Geisler plots"
   ]
  },
  {
   "cell_type": "code",
   "execution_count": null,
   "metadata": {
    "ExecuteTime": {
     "start_time": "2018-07-12T10:27:58.736Z"
    }
   },
   "outputs": [],
   "source": [
    "figsize4 = (fig_width, fig_width/1.618)\n",
    "figsizeSM2 = (fig_width, fig_width/1.618/2)\n",
    "figsizeSM3 = (fig_width, fig_width/1.618)"
   ]
  },
  {
   "cell_type": "code",
   "execution_count": null,
   "metadata": {
    "ExecuteTime": {
     "start_time": "2018-07-12T10:27:58.759Z"
    }
   },
   "outputs": [],
   "source": [
    "print('> figure SM2A : geisler colin ')\n",
    "\n",
    "fig, ax = plt.subplots(1, 3, figsize=figsizeSM2)\n",
    "\n",
    "# natural\n",
    "v_hist_noscale = v_hist1a.sum(axis=-1)\n",
    "fig, ax[0] = ef.cohistedges(edgeslist=None, v_hist=v_hist_noscale, fig=fig, ax=ax[0], display='colin_geisler', color='green')\n",
    "# man-made\n",
    "v_hist_noscale = v_hist3a.sum(axis=-1)\n",
    "fig, ax[1] = ef.cohistedges(edgeslist=None, v_hist=v_hist_noscale, fig=fig, ax=ax[1], display='colin_geisler', color='brown')\n",
    "# animal\n",
    "v_hist_noscale = v_hist2a.sum(axis=-1)\n",
    "fig, ax[2] = ef.cohistedges(edgeslist=None, v_hist=v_hist_noscale, fig=fig, ax=ax[2], display='colin_geisler', color='blue')\n",
    "\n",
    "plt.subplots_adjust(left=0., right=1., bottom=0., top=1., wspace=0.05, hspace=0.05,)\n",
    "\n",
    "ef.savefig(fig, 'figureSM2A')\n"
   ]
  },
  {
   "cell_type": "code",
   "execution_count": null,
   "metadata": {
    "ExecuteTime": {
     "start_time": "2018-07-12T10:27:58.775Z"
    },
    "scrolled": false
   },
   "outputs": [],
   "source": [
    "print('> figure SM2B : geisler cocir ')\n",
    "\n",
    "fig, ax = plt.subplots(1, 3, figsize=figsizeSM2)\n",
    "\n",
    "# natural\n",
    "v_hist_noscale = v_hist1a.sum(axis=-1)\n",
    "fig, ax[0] = ef.cohistedges(edgeslist=None, v_hist=v_hist_noscale, fig=fig, ax=ax[0], display='cocir_geisler', color='green')\n",
    "# man-made\n",
    "v_hist_noscale = v_hist3a.sum(axis=-1)\n",
    "fig, ax[1] = ef.cohistedges(edgeslist=None, v_hist=v_hist_noscale, fig=fig, ax=ax[1], display='cocir_geisler', color='brown')\n",
    "# animal\n",
    "v_hist_noscale = v_hist2a.sum(axis=-1)\n",
    "fig, ax[2] = ef.cohistedges(edgeslist=None, v_hist=v_hist_noscale, fig=fig, ax=ax[2], display='cocir_geisler', color='blue')\n",
    "\n",
    "plt.subplots_adjust(left=0., right=1., bottom=0., top=1., wspace=0.05, hspace=0.05,)\n",
    "\n",
    "ef.savefig(fig, 'figureSM2B')"
   ]
  },
  {
   "cell_type": "code",
   "execution_count": null,
   "metadata": {
    "ExecuteTime": {
     "start_time": "2018-07-12T10:27:58.791Z"
    }
   },
   "outputs": [],
   "source": [
    "print('> figure SM3 : configuration variables do not change significantly across categories ')\n",
    "import matplotlib\n",
    "#fig = plt.figure(figsize=(fig_width, fig_width*1.618))\n",
    "ef.init_binedges()\n",
    "\n",
    "fig = plt.figure(figsize=figsizeSM3)\n",
    "#    # Using contourf to provide my colorbar info, then clearing the figure\n",
    "#import matplotlib.cm as cm\n",
    "#v_min, v_max = 0.134274410939, 4446.19789307\n",
    "#levels = range(v_min,v_max+200.,200.)\n",
    "#CS3 = plt.contourf(v_hist1.sum(axis=-1).sum(axis=-1), cmap=cm.hot)\n",
    "#plt.clf()\n",
    "\n",
    "#             *left*, *bottom*, *width*, *height*\n",
    "a1 = fig.add_axes((.10, .18, .4, .82), facecolor='w')\n",
    "a2 = fig.add_axes((.52, .18, .4, .82), facecolor='w')\n",
    "bars_width = .8\n",
    "i_bar = 0\n",
    "for v_hist, label, color, marker in zip([v_hist1_shuffle, v_hist1, v_hist2, v_hist3],\n",
    "                                          ['Shuffled', 'Non-animal', 'Animal', 'Man-made'],\n",
    "                                          ['k', (0.05, 0.5, 0.05), (0.05, 0.05, 0.5), (0.5, 0.05, 0.05)], ['.', 's', 'o', 'd']):\n",
    "    proba_sigma = v_hist.sum(axis=0).sum(axis=0).sum(axis=0)\n",
    "    proba_sigma /= proba_sigma.sum(axis=0).sum(axis=0)/proba_sigma.shape[-1]\n",
    "    bin_size = (ef.binedges_loglevel[1]-ef.binedges_loglevel[0])\n",
    "    middles = (ef.binedges_loglevel[:-1]+ef.binedges_loglevel[1:])/2 + (i_bar/4.-.5)*bars_width*bin_size\n",
    "    #print middles.shape, proba_sigma.shape, proba_sigma.mean(axis=-1).shape\n",
    "    bar_color = matplotlib.colors.colorConverter.to_rgba(color, alpha=.7)\n",
    "    edge_color = matplotlib.colors.colorConverter.to_rgba(color, alpha=1.)\n",
    "    a1.bar(middles[2:], proba_sigma.mean(axis=-1)[2:], yerr=proba_sigma.std(axis=-1)[2:], error_kw={'ecolor':color}, color=bar_color, edgecolor=edge_color, label = label, width=bars_width*bin_size/4.)\n",
    "    proba_d = v_hist.sum(axis=1).sum(axis=1).sum(axis=1)\n",
    "    proba_d /= proba_d.sum(axis=0).sum(axis=0)/proba_d.shape[-1]\n",
    "    print (' Figure SM3 : in ', label, ' maximum of p(d) ', proba_d.mean(axis=-1).max(), ' minimum is ', proba_d.mean(axis=-1).min())\n",
    "    bin_size = (ef.binedges_d[1]-ef.binedges_d[0])\n",
    "    middles = (ef.binedges_d[:-1]+ef.binedges_d[1:])/2. + (i_bar/4.-.5)*bars_width*bin_size\n",
    "    a2.bar(middles , proba_d.mean(axis=-1), yerr=proba_d.std(axis=-1), error_kw={'ecolor':color}, color=bar_color, edgecolor=edge_color, label = label, width=bars_width*bin_size/4.)\n",
    "    i_bar += 1\n",
    "\n",
    "a1.set_ybound(lower=0., upper=1.59*proba_sigma.mean(axis=-1).max())\n",
    "a2.set_ybound(lower=0., upper=1.2*proba_d.mean(axis=-1).max())\n",
    "#adjust_spines(a1,['left','bottom'])\n",
    "#adjust_spines(a2,['left','bottom'])\n",
    "plt.setp(a1, yticks=[0])\n",
    "plt.setp(a1, yticklabels=['0'])\n",
    "middles = (ef.binedges_loglevel[:-1]+ef.binedges_loglevel[1:])/2\n",
    "plt.setp(a1, xticks=middles[2:])\n",
    "#plt.setp(a1, xticklabels=['1/4', '1/2', '0', '2', '4'])\n",
    "plt.setp(a1, xticklabels=['0', '2', '4'])\n",
    "#help(a1.legend)\n",
    "plt.setp(a1, xlabel='scale ratio')\n",
    "plt.setp(a1, ylabel='probability')\n",
    "middles = (ef.binedges_d[:-1]+ef.binedges_d[1:])/2.\n",
    "plt.setp(a2, xticks=middles)\n",
    "plt.setp(a2, xticklabels=[ r'$%0.1f^{\\circ}$' %d for d in middles])#str(ef.pe.d_min), str(ef.pe.d_max)])\n",
    "plt.setp(a2, xlabel='distance (deg)')\n",
    "#     plt.setp(a2, ylabel='probability')\n",
    "plt.setp(a2, yticks=[])\n",
    "plt.setp(a2, yticklabels=[])\n",
    "a1.grid(False)\n",
    "a2.grid(False)\n",
    "a1.legend(loc = 'upper right')#'lower left') # , bbox_to_anchor = (0.5, 1.75))\n",
    "\n",
    "ef.savefig(fig, 'figureSM3')"
   ]
  },
  {
   "cell_type": "markdown",
   "metadata": {},
   "source": [
    "## version control"
   ]
  },
  {
   "cell_type": "code",
   "execution_count": null,
   "metadata": {
    "ExecuteTime": {
     "start_time": "2018-07-12T10:27:58.807Z"
    }
   },
   "outputs": [],
   "source": [
    "!ls -l ../figures/figure_synthesis.pdf ../figures/figure_chevron*  ../figures/figureSM2* ../figures/figureSM3*"
   ]
  },
  {
   "cell_type": "code",
   "execution_count": null,
   "metadata": {
    "ExecuteTime": {
     "start_time": "2018-07-12T10:27:58.819Z"
    }
   },
   "outputs": [],
   "source": [
    "!git s\n",
    "#!git add  ../figures/figureSM*  ../figures/figure_chevrons*"
   ]
  },
  {
   "cell_type": "raw",
   "metadata": {},
   "source": [
    "!git d *py"
   ]
  },
  {
   "cell_type": "code",
   "execution_count": null,
   "metadata": {
    "ExecuteTime": {
     "start_time": "2018-07-12T10:27:58.908Z"
    }
   },
   "outputs": [],
   "source": [
    "!git commit -m' replicating chevron plots' ../notebooks/3\\ notebook_figure_chevrons.ipynb ../figures/figure_chevron*  ../figures/figureSM*\n",
    "#!git push"
   ]
  }
 ],
 "metadata": {
  "kernelspec": {
   "display_name": "Python 3",
   "language": "python",
   "name": "python3"
  },
  "language_info": {
   "codemirror_mode": {
    "name": "ipython",
    "version": 3
   },
   "file_extension": ".py",
   "mimetype": "text/x-python",
   "name": "python",
   "nbconvert_exporter": "python",
   "pygments_lexer": "ipython3",
   "version": "3.6.5"
  },
  "toc": {
   "base_numbering": 1,
   "nav_menu": {},
   "number_sections": true,
   "sideBar": true,
   "skip_h1_title": false,
   "title_cell": "Table of Contents",
   "title_sidebar": "Contents",
   "toc_cell": false,
   "toc_position": {},
   "toc_section_display": true,
   "toc_window_display": false
  }
 },
 "nbformat": 4,
 "nbformat_minor": 1
}
