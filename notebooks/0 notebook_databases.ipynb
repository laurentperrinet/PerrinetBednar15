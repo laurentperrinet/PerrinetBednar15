{
 "cells": [
  {
   "cell_type": "markdown",
   "metadata": {},
   "source": [
    "# generating databases\n",
    "\n",
    "a set of code snippets showing how we build our databases\n",
    "\n",
    "Note: to download the database from Serre et al paper, follow http://cbcl.mit.edu/software-datasets/serre/SerreOlivaPoggioPNAS07"
   ]
  },
  {
   "cell_type": "code",
   "execution_count": null,
   "metadata": {},
   "outputs": [],
   "source": [
    "\"\"\"\n",
    "Takes a MPEG movie and produces single frames of correct range and size\n",
    "\n",
    "\"\"\"\n",
    "import os\n",
    "import numpy as np\n",
    "\n",
    "from scipy.misc.pilutil import toimage\n",
    "# convert them to numpy\n",
    "from pylab import imread\n",
    "from scipy.ndimage import zoom\n",
    "\n",
    "\n",
    "prefix = '/Volumes/tera_enigma/doozy.inf.ed.ac.uk/jbednar/tmp/laurent/duke'\n",
    "prefix = '/Volumes/Backups/13-12_backup/backups/doozy.inf.ed.ac.uk/jbednar/tmp/laurent/duke'\n",
    "filenames = [\n",
    "# a list of tuples with (dbname, filename, start, duration, fps)\n",
    "# all are  \"Video: h264 (Constrained Baseline), yuvj420p, 1280x720, 30 fps\"\n",
    "#('natural', prefix + '/outdoor_videos/20101217_21cx718_Grass_leaves_horizon_bark_car.mov', 0, 30, 10),#Duration: 00:01:04.60\n",
    "#('natural', prefix + '/outdoor_videos/20101217_21cx721_Pine_needles_branches_ivy_bark.mov', 0, 30, 10),#Duration: 00:00:47.86\n",
    "# TODO : use treeshew\n",
    "#('laboratory', prefix + '/internal_videos/ferret/20100603_13cx768.mov', 43, 30, 10),#Duration: 00:01:14.43: first half contains lots of empty frames... second half is interesting\n",
    "#('laboratory', prefix + '/internal_videos/ferret/20100603_13cx774.mov', 55, 30, 10),# Duration: 00:02:06.10\n",
    "]\n",
    "\n"
   ]
  },
  {
   "cell_type": "code",
   "execution_count": null,
   "metadata": {},
   "outputs": [],
   "source": [
    "for dbname, filename, start, duration, fps in filenames:\n",
    "    if not(os.path.isdir('../database/' + dbname)): os.mkdir('../database/' + dbname)\n",
    "\n",
    "    downscale = 1\n",
    "    W = 1280/downscale\n",
    "    H = 720/downscale\n",
    "    if not(os.path.isfile('foo-001.png')):\n",
    "        os.system('ffmpeg -i ' + filename + ' -ss ' + str(start)  + ' -r ' + str(fps)  + ' -t ' + str(duration) +'  -s '+str(W) +'x' + str(H) +' -f image2 foo-%03d.png')\n",
    "\n",
    "    size = 512.\n",
    "    zfactor = size/H * 1.05\n",
    "    w, h = zoom(imread('foo-001.png'), zfactor).sum(axis=2).shape\n",
    "    xmin, xmax, ymin, ymax = (w-size)/2, (w-size)/2+size , (h-size)/2 , (h-size)/2 + size\n",
    "    offset = len(os.listdir('database/' + dbname))\n",
    "    i_frame = 0\n",
    "    while True:\n",
    "        inname = 'foo-%03d.png' % (i_frame + 1)\n",
    "        if not(os.path.isfile(inname)):\n",
    "            break\n",
    "        else:\n",
    "            image = np.sum(imread(inname), axis=2)\n",
    "            image = zoom(image, zfactor)\n",
    "            image = image[xmin:xmax, ymin:ymax]\n",
    "            image -= image.mean()\n",
    "            image = (.5 * image/np.abs(image).max() + .5)\n",
    "            outname = os.path.join('database/' + dbname, 'frame%03d.png' % (offset + i_frame))\n",
    "            toimage(image, cmin=0., cmax=1.).save(outname)\n",
    "        i_frame += 1\n",
    "\n",
    "    os.system('rm -f foo-*.png')\n"
   ]
  },
  {
   "cell_type": "markdown",
   "metadata": {},
   "source": [
    "\n",
    "## Example images\n",
    "\n",
    "\n",
    "the tiger from figure synthesis:\n"
   ]
  },
  {
   "cell_type": "code",
   "execution_count": null,
   "metadata": {
    "collapsed": true
   },
   "outputs": [],
   "source": [
    "!curl https://farm7.staticflickr.com/6058/6370387703_5e718ea681_q_d.jpg -o /tmp/6370387703_5e718ea681_q_d.jpg"
   ]
  },
  {
   "cell_type": "markdown",
   "metadata": {},
   "source": [
    "A simple image of a prototypical animals to illustrate the sparse edge detection algorithm:"
   ]
  },
  {
   "cell_type": "markdown",
   "metadata": {},
   "source": [
    "http://doozy.inf.ed.ac.uk/jbednar/album/Creatures/"
   ]
  },
  {
   "cell_type": "code",
   "execution_count": null,
   "metadata": {},
   "outputs": [],
   "source": [
    "from __future__ import division, print_function\n",
    "%cd -q ../test/\n"
   ]
  },
  {
   "cell_type": "code",
   "execution_count": null,
   "metadata": {},
   "outputs": [],
   "source": [
    "import numpy as np\n",
    "np.set_printoptions(precision=4)#, suppress=True)\n",
    "\n",
    "from SparseEdges import EdgeFactory\n",
    "ef = EdgeFactory('../notebooks/srep_param.py')\n",
    "ef.pe.figpath = '../ms'\n",
    "\n",
    "print(ef.pe)"
   ]
  },
  {
   "cell_type": "markdown",
   "metadata": {},
   "source": [
    "### importing images from the net"
   ]
  },
  {
   "cell_type": "raw",
   "metadata": {},
   "source": [
    "root_URL = 'http://doozy.inf.ed.ac.uk/jbednar/album/Creatures/'\n",
    "\n",
    "inputs = [\n",
    "('duck.jpg',\n",
    " root_URL + '20120523_24cx214_%5BDuddingston%5D_Weirdly_sitting_ducks_all_over_the_place.jpg'),\n",
    "('zebra.jpg',\n",
    " root_URL + '20050924_02cx475_%5BEdinburgh_Zoo%5D.jpg'),\n",
    "('seagull.jpg',\n",
    " root_URL + '20121228_32cx480_%5BCramond%5D.jpg'),\n",
    "('penguin.jpg',\n",
    " root_URL + '20050924_02cx492_%5BEdinburgh_Zoo%5D.jpg'),\n",
    "('duck2.jpg',\n",
    " root_URL + '20120523_24cx215_%5BDuddingston%5D.jpg'),\n",
    "(#https://commons.wikimedia.org/wiki/File:Elephant_%28Loxodonta_Africana%29_05.jpg\n",
    "'elephant.jpg',\n",
    "'https://upload.wikimedia.org/wikipedia/commons/d/d4/Elephant_%28Loxodonta_Africana%29_05.jpg'),\n",
    "(#https://commons.wikimedia.org/wiki/File:Phoebetria_fusca_immature_-_SE_Tasmania.jpg\n",
    "'bird.jpg',\n",
    "'https://upload.wikimedia.org/wikipedia/commons/2/29/Phoebetria_fusca_immature_-_SE_Tasmania.jpg'),\n",
    "]\n",
    "\n",
    "from scipy.misc.pilutil import toimage\n",
    "from pylab import imread\n",
    "from scipy.ndimage import zoom\n",
    "\n",
    "import os\n",
    "for filename, URL in inputs:\n",
    "    if not(os.path.isfile('/tmp/' + filename)):\n",
    "        print('Downloading ', filename, URL)\n",
    "        os.system('curl ' + URL + ' -o /tmp/' + filename)\n",
    "        \n",
    "if True:\n",
    "    for filename, URL in inputs:\n",
    "        print('Scaling ', filename, end=', ')\n",
    "        image = imread('/tmp/' + filename).mean(axis=-1)\n",
    "        \n",
    "        print('<<< from Size (full):', image.shape, end=', ')\n",
    "        zfactor = 596./image.shape[0]\n",
    "        #print 'Size (zoom):', zoom(image, zfactor).shape\n",
    "        image = zoom(image, zfactor)\n",
    "        \n",
    "        if image.shape[1] == 795: # HACK : e do not like odd sizes\n",
    "            image = image[:, :794]\n",
    "        print('>>> to Size (full):', image.shape)\n",
    "        \n",
    "        # flip left - right (arbitrary, but looks nicer to me)\n",
    "        if filename in ['duck2.jpg', 'elephant.jpg', 'seagull.jpg', 'bird.jpg']:\n",
    "            image = image[:, ::-1]\n",
    "\n",
    "        image -= image.mean()\n",
    "        image = (.5 * image/np.abs(image).max() + .5)\n",
    "        toimage(image, cmin=0., cmax=1.).save('database/' + filename)\n",
    "\n",
    "#LIST = ['penguin.jpg', 'duck.jpg', 'zebra.jpg', 'seagull.jpg']\n",
    "#LIST = ['duck.jpg', 'zebra.jpg']\n",
    "from IPython.display import Image as IpyImage\n",
    "from IPython.display import display\n",
    "for filename, URL in inputs: \n",
    "    display(IpyImage(filename='../database/' + filename))    "
   ]
  },
  {
   "cell_type": "markdown",
   "metadata": {},
   "source": [
    "## some tricks to rename files\n"
   ]
  },
  {
   "cell_type": "code",
   "execution_count": null,
   "metadata": {},
   "outputs": [],
   "source": [
    "\n",
    "import glob\n",
    "\n",
    "for feature in ['first', 'first_rot', 'full', 'chevron']:\n",
    "    for kernel in ['rbf', 'precomputed']:\n",
    "        pattern = '_' + feature + kernel + '_'\n",
    "\n",
    "        pattern_new = '_' + feature + '_testing_' + kernel + '_'\n",
    "\n",
    "\n",
    "        for fname in glob.glob('**/*_test_size_*'):\n",
    "            if pattern in fname:\n",
    "                print ('removing old ', fname)\n",
    "                matname_new = fname.replace(pattern, pattern_new)\n",
    "                shutil.move(fname, matname_new)\n",
    "                print(fname, matname_new)\n",
    "\n",
    "\n",
    "\n",
    "#supp_SVM_serre07_distractors_serre07_targets_fullrbf_test_size_0_19.npy_lock"
   ]
  },
  {
   "cell_type": "code",
   "execution_count": null,
   "metadata": {},
   "outputs": [],
   "source": [
    "import glob\n",
    "\n",
    "for fname in glob.glob('**/srep*_SVM_*testing*'):\n",
    "    print ('removing old ', fname)\n",
    "    matname_new = fname.replace('_testing', '').replace('testing', '').replace('srep', 'supp')\n",
    "    if os.path.isfile(matname_new):\n",
    "        os.remove(fname)\n",
    "    else:\n",
    "        import shutil\n",
    "        shutil.move(fname, matname_new)\n",
    "\n",
    "\n",
    "#supp_SVM_serre07_distractors_serre07_targets_fullrbf_test_size_0_19.npy_lock"
   ]
  },
  {
   "cell_type": "code",
   "execution_count": null,
   "metadata": {
    "collapsed": true
   },
   "outputs": [],
   "source": [
    "        # HACK for old names\n",
    "                matname_oldhist = os.path.join(self.pe.matpath, exp + '_SVMhist_' + name_database + '_' + feature_ + opt_notSVM + '.npy')\n",
    "                if os.path.isfile(matname_oldhist):\n",
    "                    print ('removing old ', matname_oldhist)\n",
    "                    matname_hist = os.path.join(self.pe.matpath, exp + '_SVM-hist_' + name_database + '_' + feature_ + opt_notSVM + '.npy')\n",
    "                    if os.path.isfile(matname_hist):\n",
    "                        os.remove(matname_oldhist)\n",
    "                    else:\n",
    "                        import shutil\n",
    "                        shutil.move(matname_oldhist, matname_hist)\n"
   ]
  }
 ],
 "metadata": {
  "kernelspec": {
   "display_name": "Python 3",
   "language": "python",
   "name": "python3"
  },
  "language_info": {
   "codemirror_mode": {
    "name": "ipython",
    "version": 3
   },
   "file_extension": ".py",
   "mimetype": "text/x-python",
   "name": "python",
   "nbconvert_exporter": "python",
   "pygments_lexer": "ipython3",
   "version": "3.6.5"
  },
  "toc": {
   "base_numbering": 1,
   "nav_menu": {},
   "number_sections": true,
   "sideBar": true,
   "skip_h1_title": false,
   "title_cell": "Table of Contents",
   "title_sidebar": "Contents",
   "toc_cell": false,
   "toc_position": {},
   "toc_section_display": true,
   "toc_window_display": false
  }
 },
 "nbformat": 4,
 "nbformat_minor": 1
}
